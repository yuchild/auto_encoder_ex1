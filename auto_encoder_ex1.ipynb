{
 "cells": [
  {
   "cell_type": "markdown",
   "metadata": {},
   "source": [
    "from: https://towardsdatascience.com/machine-learning-autoencoders-712337a07c71"
   ]
  },
  {
   "cell_type": "code",
   "execution_count": 23,
   "metadata": {},
   "outputs": [],
   "source": [
    "import tensorflow as tf\n",
    "import numpy as np\n",
    "import matplotlib.pyplot as plt\n",
    "\n",
    "import warnings\n",
    "warnings.filterwarnings('ignore')"
   ]
  },
  {
   "cell_type": "code",
   "execution_count": 27,
   "metadata": {},
   "outputs": [],
   "source": [
    "import requests\n",
    "requests.packages.urllib3.disable_warnings()\n",
    "import ssl\n",
    "\n",
    "try:\n",
    "    _create_unverified_https_context = ssl._create_unverified_context\n",
    "except AttributeError:\n",
    "    # Legacy Python that doesn't verify HTTPS certificates by default\n",
    "    pass\n",
    "else:\n",
    "    # Handle target environment that doesn't support HTTPS verification\n",
    "    ssl._create_default_https_context = _create_unverified_https_context"
   ]
  },
  {
   "cell_type": "code",
   "execution_count": 28,
   "metadata": {
    "scrolled": false
   },
   "outputs": [
    {
     "name": "stdout",
     "output_type": "stream",
     "text": [
      "Downloading data from https://storage.googleapis.com/tensorflow/tf-keras-datasets/mnist.npz\n",
      "11493376/11490434 [==============================] - 2s 0us/step\n"
     ]
    }
   ],
   "source": [
    "\n",
    "(X_train, y_train), (X_test, y_test) = tf.keras.datasets.mnist.load_data(path='mnist.npz')"
   ]
  },
  {
   "cell_type": "code",
   "execution_count": 29,
   "metadata": {},
   "outputs": [],
   "source": [
    "X_train = X_train.astype('float32') / 255\n",
    "X_test = X_test.astype('float32') / 255"
   ]
  },
  {
   "cell_type": "code",
   "execution_count": 30,
   "metadata": {},
   "outputs": [],
   "source": [
    "X_train = np.round(X_train, 0)\n",
    "X_test = np.round(X_test, 0)"
   ]
  },
  {
   "cell_type": "code",
   "execution_count": 31,
   "metadata": {},
   "outputs": [],
   "source": [
    "X_train = X_train.reshape((len(X_train), np.prod(X_train.shape[1:])))\n",
    "X_test = X_test.reshape((len(X_test), np.prod(X_test.shape[1:])))"
   ]
  },
  {
   "cell_type": "code",
   "execution_count": 32,
   "metadata": {},
   "outputs": [
    {
     "name": "stdout",
     "output_type": "stream",
     "text": [
      "(60000, 784)\n"
     ]
    }
   ],
   "source": [
    "print(X_train.shape)"
   ]
  },
  {
   "cell_type": "code",
   "execution_count": 33,
   "metadata": {},
   "outputs": [
    {
     "name": "stdout",
     "output_type": "stream",
     "text": [
      "Model: \"model\"\n",
      "_________________________________________________________________\n",
      "Layer (type)                 Output Shape              Param #   \n",
      "=================================================================\n",
      "input_1 (InputLayer)         [(None, 784)]             0         \n",
      "_________________________________________________________________\n",
      "dense (Dense)                (None, 128)               100480    \n",
      "_________________________________________________________________\n",
      "dense_1 (Dense)              (None, 64)                8256      \n",
      "_________________________________________________________________\n",
      "dense_2 (Dense)              (None, 128)               8320      \n",
      "_________________________________________________________________\n",
      "dense_3 (Dense)              (None, 784)               101136    \n",
      "=================================================================\n",
      "Total params: 218,192\n",
      "Trainable params: 218,192\n",
      "Non-trainable params: 0\n",
      "_________________________________________________________________\n",
      "Failed to import pydot. You must install pydot and graphviz for `pydotprint` to work.\n"
     ]
    }
   ],
   "source": [
    "inputs = tf.keras.layers.Input(784)\n",
    "encoded_1 = tf.keras.layers.Dense(128)(inputs)\n",
    "encoded = tf.keras.layers.Dense(64, activation='relu')(encoded_1)\n",
    "decoded_1 = tf.keras.layers.Dense(128)(encoded)\n",
    "decoded = tf.keras.layers.Dense(784, activation='sigmoid')(decoded_1)\n",
    "\n",
    "auto_encoder = tf.keras.Model(inputs, decoded)\n",
    "auto_encoder.compile(loss='binary_crossentropy'\n",
    "                     , optimizer='adam'\n",
    "                     , metrics = ['accuracy'])\n",
    "\n",
    "auto_encoder.summary()\n",
    "tf.keras.utils.plot_model(auto_encoder\n",
    "                          , show_shapes=True\n",
    "                          , to_file='autoenc.png'\n",
    "                          , dpi = 200)"
   ]
  },
  {
   "cell_type": "code",
   "execution_count": 37,
   "metadata": {},
   "outputs": [
    {
     "name": "stdout",
     "output_type": "stream",
     "text": [
      "Model: \"model_1\"\n",
      "_________________________________________________________________\n",
      "Layer (type)                 Output Shape              Param #   \n",
      "=================================================================\n",
      "input_1 (InputLayer)         [(None, 784)]             0         \n",
      "_________________________________________________________________\n",
      "dense (Dense)                (None, 128)               100480    \n",
      "_________________________________________________________________\n",
      "dense_1 (Dense)              (None, 64)                8256      \n",
      "=================================================================\n",
      "Total params: 108,736\n",
      "Trainable params: 108,736\n",
      "Non-trainable params: 0\n",
      "_________________________________________________________________\n",
      "Failed to import pydot. You must install pydot and graphviz for `pydotprint` to work.\n"
     ]
    }
   ],
   "source": [
    "encoder = tf.keras.Model(inputs, encoded)\n",
    "encoder.summary()\n",
    "tf.keras.utils.plot_model(encoder\n",
    "                         , show_shapes=True\n",
    "                         , to_file='enc.png'\n",
    "                         , dpi=200)"
   ]
  },
  {
   "cell_type": "code",
   "execution_count": 35,
   "metadata": {},
   "outputs": [
    {
     "name": "stdout",
     "output_type": "stream",
     "text": [
      "Train on 60000 samples\n",
      "Epoch 1/10\n",
      "60000/60000 [==============================] - 2s 29us/sample - loss: 0.1944 - accuracy: 0.9124\n",
      "Epoch 2/10\n",
      "60000/60000 [==============================] - 1s 23us/sample - loss: 0.0957 - accuracy: 0.9599\n",
      "Epoch 3/10\n",
      "60000/60000 [==============================] - 1s 24us/sample - loss: 0.0742 - accuracy: 0.9697\n",
      "Epoch 4/10\n",
      "60000/60000 [==============================] - 1s 22us/sample - loss: 0.0633 - accuracy: 0.9746\n",
      "Epoch 5/10\n",
      "60000/60000 [==============================] - 1s 24us/sample - loss: 0.0557 - accuracy: 0.9779\n",
      "Epoch 6/10\n",
      "60000/60000 [==============================] - 1s 23us/sample - loss: 0.0504 - accuracy: 0.9802\n",
      "Epoch 7/10\n",
      "60000/60000 [==============================] - 1s 23us/sample - loss: 0.0465 - accuracy: 0.9819\n",
      "Epoch 8/10\n",
      "60000/60000 [==============================] - 1s 22us/sample - loss: 0.0435 - accuracy: 0.9832\n",
      "Epoch 9/10\n",
      "60000/60000 [==============================] - 1s 24us/sample - loss: 0.0412 - accuracy: 0.9841\n",
      "Epoch 10/10\n",
      "60000/60000 [==============================] - 1s 24us/sample - loss: 0.0392 - accuracy: 0.9849\n"
     ]
    },
    {
     "data": {
      "text/plain": [
       "<tensorflow.python.keras.callbacks.History at 0x7f3be8ef6c50>"
      ]
     },
     "execution_count": 35,
     "metadata": {},
     "output_type": "execute_result"
    }
   ],
   "source": [
    "auto_encoder.fit(X_train\n",
    "                 , X_train\n",
    "                 , epochs = 10\n",
    "                 , batch_size=256\n",
    "                 , shuffle=True)"
   ]
  },
  {
   "cell_type": "code",
   "execution_count": 38,
   "metadata": {},
   "outputs": [],
   "source": [
    "predicted_2dim = encoder.predict(X_test)\n",
    "predicted_original = auto_encoder.predict(X_test)"
   ]
  },
  {
   "cell_type": "code",
   "execution_count": 41,
   "metadata": {},
   "outputs": [
    {
     "data": {
      "image/png": "[encoded data removed]",
      "text/plain": [
       "<Figure size 1440x720 with 10 Axes>"
      ]
     },
     "metadata": {
      "needs_background": "light"
     },
     "output_type": "display_data"
    }
   ],
   "source": [
    "shown = {}\n",
    "fig = plt.figure(figsize=(20,10))\n",
    "fig.subplots_adjust(hspace=1, wspace=0.1)\n",
    "i = 0\n",
    "\n",
    "for data, y in zip(predicted_original, y_test):\n",
    "    if y not in shown and y==len(shown):\n",
    "        i+=1\n",
    "        ax = fig.add_subplot(1, 10, i)\n",
    "        ax.text(1, -1, str(y)\n",
    "               , fontsize=25\n",
    "               , ha='center'\n",
    "               , c = 'g')\n",
    "        ax.imshow(np.array(data).reshape(28, 28), cmap='gray')\n",
    "\n",
    "        shown[y] = True\n",
    "    if len(shown) == 10:\n",
    "        break"
   ]
  },
  {
   "cell_type": "code",
   "execution_count": null,
   "metadata": {},
   "outputs": [],
   "source": []
  }
 ],
 "metadata": {
  "kernelspec": {
   "display_name": "Python 3",
   "language": "python",
   "name": "python3"
  },
  "language_info": {
   "codemirror_mode": {
    "name": "ipython",
    "version": 3
   },
   "file_extension": ".py",
   "mimetype": "text/x-python",
   "name": "python",
   "nbconvert_exporter": "python",
   "pygments_lexer": "ipython3",
   "version": "3.7.5"
  }
 },
 "nbformat": 4,
 "nbformat_minor": 4
}
